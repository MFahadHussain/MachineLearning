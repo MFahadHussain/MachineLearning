{
  "cells": [
    {
      "cell_type": "markdown",
      "metadata": {
        "id": "view-in-github",
        "colab_type": "text"
      },
      "source": [
        "<a href=\"https://colab.research.google.com/github/MFahadHussain/MachineLearning/blob/main/numpy1.ipynb\" target=\"_parent\"><img src=\"https://colab.research.google.com/assets/colab-badge.svg\" alt=\"Open In Colab\"/></a>"
      ]
    },
    {
      "cell_type": "markdown",
      "metadata": {
        "id": "PU0dwkB9hcwT"
      },
      "source": [
        "### NumPy Assignment\n",
        "\n",
        "This assignment covers a wide range of NumPy functionalities, from basic array creation to advanced operations like linear algebra. It is suitable for undergraduate students who are new to NumPy or need practice with its core features.\n",
        "\n",
        "\n",
        "Instructions\n",
        "- Complete all the tasks in this Jupyter Notebook.\n",
        "- Write your code in the provided code cells.\n",
        "- Test your code to ensure it works as expected.\n",
        "- Submit your completed notebook.\n",
        "\n",
        "#### Submission\n",
        "- Save your Jupyter Notebook.\n",
        "- Submit the notebook file with your solutions."
      ]
    },
    {
      "cell_type": "markdown",
      "metadata": {
        "id": "kCslpwTLhcwa"
      },
      "source": [
        "Enter your name: Fahad Hussain\n",
        "Program: BS Data Science\n",
        "Group:B"
      ]
    },
    {
      "cell_type": "markdown",
      "metadata": {
        "id": "werEHeurhcwb"
      },
      "source": [
        "Task 1: Import NumPy <br />\n",
        "Import the NumPy library and use the alias np."
      ]
    },
    {
      "cell_type": "code",
      "execution_count": null,
      "metadata": {
        "id": "YNKueAwchcwc"
      },
      "outputs": [],
      "source": [
        "import numpy as np"
      ]
    },
    {
      "cell_type": "markdown",
      "metadata": {
        "id": "Ee6EIxaShcwe"
      },
      "source": [
        "Task 2: Create Arrays\n",
        "- Create a 1D array with the numbers 1 through 10.\n",
        "- Create a 2D array of shape (3, 3) with all elements set to 1.\n",
        "- Create a 3D array of shape (2, 2, 2) with random integers between 0 and 100."
      ]
    },
    {
      "cell_type": "code",
      "execution_count": null,
      "metadata": {
        "colab": {
          "base_uri": "https://localhost:8080/"
        },
        "id": "ky0M99mYhcwf",
        "outputId": "019e5366-67cb-4c8f-8268-61f299880a9b"
      },
      "outputs": [
        {
          "output_type": "stream",
          "name": "stdout",
          "text": [
            "[ 1  2  3  4  5  6  7  8  9 10] [[1. 1. 1.]\n",
            " [1. 1. 1.]\n",
            " [1. 1. 1.]] [[[69 81]\n",
            "  [96 20]]\n",
            "\n",
            " [[60 14]\n",
            "  [40 67]]]\n"
          ]
        }
      ],
      "source": [
        "D1=np.arange(1,11)\n",
        "D2=np.ones((3,3))\n",
        "D3=np.random.randint(0,100,(2,2,2))\n",
        "print(D1,D2,D3)"
      ]
    },
    {
      "cell_type": "markdown",
      "metadata": {
        "id": "jbYqbAVfhcwg"
      },
      "source": [
        "Task 3: Array Operations\n",
        "- Given the array arr = np.array([1, 2, 3, 4, 5]), multiply each element by 10.\n",
        "- Compute the sum of all elements in the array.\n",
        "- Compute the mean and standard deviation of the array."
      ]
    },
    {
      "cell_type": "code",
      "execution_count": null,
      "metadata": {
        "colab": {
          "base_uri": "https://localhost:8080/"
        },
        "id": "NgmQVc8Ahcwi",
        "outputId": "c6853be4-61ef-4ad7-c3e0-f6087ca334ae"
      },
      "outputs": [
        {
          "output_type": "stream",
          "name": "stdout",
          "text": [
            "[10 20 30 40 50]\n"
          ]
        }
      ],
      "source": [
        "arr = np.array([1, 2, 3, 4, 5])\n",
        "arr10=arr*10\n",
        "print(arr10)"
      ]
    },
    {
      "cell_type": "markdown",
      "metadata": {
        "id": "0jKwIwnRhcwj"
      },
      "source": [
        "Task 4: Array Indexing and Slicing\n",
        "- Given the array arr = np.array([[1, 2, 3], [4, 5, 6], [7, 8, 9]]), extract the second row.\n",
        "- Extract the first two columns.\n",
        "- Extract the subarray [[2, 3], [5, 6]]."
      ]
    },
    {
      "cell_type": "code",
      "execution_count": null,
      "metadata": {
        "colab": {
          "base_uri": "https://localhost:8080/"
        },
        "id": "Jl9RJbGBhcwk",
        "outputId": "c7feeeec-6713-4dca-ef1d-4c1fa6f9905a"
      },
      "outputs": [
        {
          "output_type": "stream",
          "name": "stdout",
          "text": [
            "[4 5 6]\n",
            "[[1 2]\n",
            " [4 5]\n",
            " [7 8]]\n",
            "[[5 6]\n",
            " [8 9]]\n"
          ]
        }
      ],
      "source": [
        "arr = np.array([[1, 2, 3], [4, 5, 6], [7, 8, 9]])\n",
        "print(arr[1])\n",
        "print(arr[:,0:2])\n",
        "print(arr[1:,1:])"
      ]
    },
    {
      "cell_type": "markdown",
      "metadata": {
        "id": "5Jd5J7Bihcwl"
      },
      "source": [
        "Task 5: Reshape and Transpose\n",
        "- Reshape the array arr = np.arange(1, 13) into a 3x4 matrix.\n",
        "- Transpose the resulting matrix."
      ]
    },
    {
      "cell_type": "code",
      "execution_count": null,
      "metadata": {
        "colab": {
          "base_uri": "https://localhost:8080/"
        },
        "id": "fas-xy5Jhcwm",
        "outputId": "15ff00d8-2a29-42be-9e46-ddebee49fcc7"
      },
      "outputs": [
        {
          "output_type": "stream",
          "name": "stdout",
          "text": [
            "[[ 1  2  3  4]\n",
            " [ 5  6  7  8]\n",
            " [ 9 10 11 12]]\n",
            "[[ 1  5  9]\n",
            " [ 2  6 10]\n",
            " [ 3  7 11]\n",
            " [ 4  8 12]]\n"
          ]
        }
      ],
      "source": [
        "arr = np.arange(1, 13)\n",
        "print(arr.reshape(3,4))\n",
        "print(arr.reshape(3,4).T)"
      ]
    },
    {
      "cell_type": "markdown",
      "metadata": {
        "id": "6A31q_4Uhcwm"
      },
      "source": [
        "Task 6: Mathematical Functions\n",
        "- Compute the element-wise square root of the array arr = np.array([1, 4, 9, 16, 25]).\n",
        "- Compute the exponential of each element in the array arr = np.array([1, 2, 3]).\n",
        "- Compute the dot product of a = np.array([1, 2, 3]) and b = np.array([4, 5, 6])."
      ]
    },
    {
      "cell_type": "code",
      "execution_count": null,
      "metadata": {
        "colab": {
          "base_uri": "https://localhost:8080/"
        },
        "id": "3Yc4ul0ehcwn",
        "outputId": "30749f3b-610c-4f94-819b-8851aa71501a"
      },
      "outputs": [
        {
          "output_type": "stream",
          "name": "stdout",
          "text": [
            "[1. 2. 3. 4. 5.]\n",
            "[ 2.71828183  7.3890561  20.08553692]\n"
          ]
        }
      ],
      "source": [
        "arr = np.array([1, 4, 9, 16, 25])\n",
        "print(np.sqrt(arr))\n",
        "arr1 = np.array([1, 2, 3])\n",
        "print(np.exp(arr1))"
      ]
    },
    {
      "cell_type": "markdown",
      "metadata": {
        "id": "-1cJQQWVhcwn"
      },
      "source": [
        "Task 7: Advanced Operations\n",
        "- Create a 5x5 identity matrix.\n",
        "- Stack two arrays a = np.array([1, 2, 3]) and b = np.array([4, 5, 6]) vertically.\n",
        "- Split the array arr = np.arange(1, 11) into 3 equal parts."
      ]
    },
    {
      "cell_type": "code",
      "execution_count": null,
      "metadata": {
        "colab": {
          "base_uri": "https://localhost:8080/"
        },
        "id": "qjJae34Ehcwo",
        "outputId": "eb7489c9-7d6a-498f-98ed-2d7e429713e5"
      },
      "outputs": [
        {
          "output_type": "stream",
          "name": "stdout",
          "text": [
            "[[1. 0. 0. 0. 0.]\n",
            " [0. 1. 0. 0. 0.]\n",
            " [0. 0. 1. 0. 0.]\n",
            " [0. 0. 0. 1. 0.]\n",
            " [0. 0. 0. 0. 1.]]\n",
            "[[1 2 3]\n",
            " [4 5 6]]\n"
          ]
        }
      ],
      "source": [
        "a=np.identity(5)\n",
        "print(a)\n",
        "b=np.array([1, 2, 3])\n",
        "c=np.array([4, 5, 6])\n",
        "print(np.vstack((b,c)))"
      ]
    },
    {
      "cell_type": "markdown",
      "metadata": {
        "id": "_fK8E-Xahcwo"
      },
      "source": [
        "Task 8: Boolean Indexing\n",
        "- Given the array arr = np.array([1, 2, 3, 4, 5, 6, 7, 8, 9, 10]), extract all elements greater than 5.\n",
        "- Replace all elements less than 5 with 0."
      ]
    },
    {
      "cell_type": "code",
      "execution_count": null,
      "metadata": {
        "colab": {
          "base_uri": "https://localhost:8080/"
        },
        "id": "4uOBkBLhhcwp",
        "outputId": "d9c8dbe8-0c0d-4d06-b2d4-4ff045c416d3"
      },
      "outputs": [
        {
          "output_type": "stream",
          "name": "stdout",
          "text": [
            "[ 6  7  8  9 10]\n",
            "[ 0  0  0  0  5  6  7  8  9 10]\n"
          ]
        }
      ],
      "source": [
        "arr = np.array([1, 2, 3, 4, 5, 6, 7, 8, 9, 10])\n",
        "print(arr[arr>5])\n",
        "arr[arr<5]=0\n",
        "print(arr)"
      ]
    },
    {
      "cell_type": "markdown",
      "metadata": {
        "id": "LwJnfDPphcwp"
      },
      "source": [
        "Task 9: Linear Algebra\n",
        "- Compute the determinant of the matrix A = np.array([[1, 2], [3, 4]]).\n",
        "- Compute the inverse of matrix A.\n",
        "- Solve the system of linear equations:\n",
        "  - 2x+3y=8\n",
        "  - x−y=1"
      ]
    },
    {
      "cell_type": "code",
      "execution_count": null,
      "metadata": {
        "colab": {
          "base_uri": "https://localhost:8080/"
        },
        "id": "Fs6v2GYQhcwq",
        "outputId": "1b0cd587-001d-4a6c-c513-0cd383f35b36"
      },
      "outputs": [
        {
          "output_type": "stream",
          "name": "stdout",
          "text": [
            "-2.0000000000000004\n",
            "[[-2.   1. ]\n",
            " [ 1.5 -0.5]]\n"
          ]
        }
      ],
      "source": [
        "A=np.array([[1, 2], [3, 4]])\n",
        "print(np.linalg.det(A))\n",
        "print(np.linalg.inv(A))"
      ]
    },
    {
      "cell_type": "markdown",
      "metadata": {
        "id": "ZTKZoc97hcwr"
      },
      "source": [
        "Task 10: Challenge Problem\n",
        "- Create a 10x10 array where the border elements are 1 and the inner elements are 0.\n",
        "- Normalize the array arr = np.random.randint(0, 100, size=(5, 5)) so that all values lie between 0 and 1."
      ]
    },
    {
      "cell_type": "code",
      "execution_count": null,
      "metadata": {
        "colab": {
          "base_uri": "https://localhost:8080/"
        },
        "id": "tPlbnFH0hcwr",
        "outputId": "c8840a36-6fc1-4383-d62a-285e3fad33da"
      },
      "outputs": [
        {
          "output_type": "stream",
          "name": "stdout",
          "text": [
            "[[1. 1. 1. 1. 1. 1. 1. 1. 1. 1.]\n",
            " [1. 0. 0. 0. 0. 0. 0. 0. 0. 1.]\n",
            " [1. 0. 0. 0. 0. 0. 0. 0. 0. 1.]\n",
            " [1. 0. 0. 0. 0. 0. 0. 0. 0. 1.]\n",
            " [1. 0. 0. 0. 0. 0. 0. 0. 0. 1.]\n",
            " [1. 0. 0. 0. 0. 0. 0. 0. 0. 1.]\n",
            " [1. 0. 0. 0. 0. 0. 0. 0. 0. 1.]\n",
            " [1. 0. 0. 0. 0. 0. 0. 0. 0. 1.]\n",
            " [1. 0. 0. 0. 0. 0. 0. 0. 0. 1.]\n",
            " [1. 1. 1. 1. 1. 1. 1. 1. 1. 1.]]\n",
            "[[62 91 56 60 39]\n",
            " [63 15 98  0 52]\n",
            " [63 18 80 98 91]\n",
            " [83 35 99 90 64]\n",
            " [95 51 74 82 38]]\n",
            "[[0.62626263 0.91919192 0.56565657 0.60606061 0.39393939]\n",
            " [0.63636364 0.15151515 0.98989899 0.         0.52525253]\n",
            " [0.63636364 0.18181818 0.80808081 0.98989899 0.91919192]\n",
            " [0.83838384 0.35353535 1.         0.90909091 0.64646465]\n",
            " [0.95959596 0.51515152 0.74747475 0.82828283 0.38383838]]\n"
          ]
        }
      ],
      "source": [
        "arr=np.ones((10,10))\n",
        "arr[1:-1,1:-1]=0\n",
        "print(arr)\n",
        "A=np.random.randint(0, 100, size=(5, 5))\n",
        "print(A)\n",
        "print((A-np.min(A))/(np.max(A)-np.min(A)))"
      ]
    },
    {
      "cell_type": "markdown",
      "metadata": {
        "id": "IYSG1IIehcws"
      },
      "source": [
        "Task 11: Make a function and perform the following in it.\n",
        "\n",
        "   **1: Print the given data in a DataFrame**\n",
        "    \n",
        "   **2: Print the first 3 rows**\n",
        "   \n",
        "   **3: Print the last 3 rows**\n",
        "   \n",
        "   data = { <br />\n",
        "    'A': [1, 2, 3, 4, 5, 6], <br />\n",
        "    'B': [7, 8, 9, 10, 11, 12],<br />\n",
        "    'C': [13, 14, 15, 16, 17, 18] <br />\n",
        "}"
      ]
    },
    {
      "cell_type": "code",
      "execution_count": null,
      "metadata": {
        "colab": {
          "base_uri": "https://localhost:8080/"
        },
        "id": "fdmWIWcHhcws",
        "outputId": "dc2b2b20-d403-4c98-f3da-57fe660c80ab"
      },
      "outputs": [
        {
          "output_type": "stream",
          "name": "stdout",
          "text": [
            "   A   B   C\n",
            "0  1   7  13\n",
            "1  2   8  14\n",
            "2  3   9  15\n",
            "3  4  10  16\n",
            "4  5  11  17\n",
            "5  6  12  18\n",
            "   A  B   C\n",
            "0  1  7  13\n",
            "1  2  8  14\n",
            "2  3  9  15\n",
            "   A   B   C\n",
            "3  4  10  16\n",
            "4  5  11  17\n",
            "5  6  12  18\n"
          ]
        }
      ],
      "source": [
        "import pandas as pd\n",
        "A=np.array([1, 2, 3, 4, 5, 6])\n",
        "B=np.array([7, 8, 9, 10, 11, 12])\n",
        "C=np.array([13, 14, 15, 16, 17, 18])\n",
        "\n",
        "print(pd.DataFrame({'A':A,'B':B,'C':C}))\n",
        "\n",
        "print(pd.DataFrame({'A':A,'B':B,'C':C}).head(3))\n",
        "\n",
        "print(pd.DataFrame({'A':A,'B':B,'C':C}).tail(3))"
      ]
    },
    {
      "cell_type": "markdown",
      "metadata": {
        "id": "BniHfZFphcws"
      },
      "source": [
        "Task 12: Make a function and perform the following functions.**\n",
        "\n",
        "   **1: Perform the mathematical function +50 to the given numpy array**\n",
        "    \n",
        "   **2: Add an element at the index position [3],[6],[8] in the array**\n",
        "    \n",
        "   **3: Check the shape of the array**\n",
        "   \n",
        "   array = np.array([1, 2, 3, 4, 5, 6, 7, 8, 9, 10])"
      ]
    },
    {
      "cell_type": "code",
      "execution_count": null,
      "metadata": {
        "colab": {
          "base_uri": "https://localhost:8080/"
        },
        "id": "Dj2odStihcwt",
        "outputId": "3d65f28c-8098-423b-ff65-f9901651e83d"
      },
      "outputs": [
        {
          "output_type": "stream",
          "name": "stdout",
          "text": [
            "[51 52 53 54 55 56 57 58 59 60]\n",
            "[ 1  2  3  4  5  6  7  8  9 10 11]\n"
          ]
        }
      ],
      "source": [
        "array = np.array([1, 2, 3, 4, 5, 6, 7, 8, 9, 10])\n",
        "print(array+50)\n",
        "array=np.append(array,11)\n",
        "print(array)"
      ]
    },
    {
      "cell_type": "code",
      "source": [
        "array.shape"
      ],
      "metadata": {
        "colab": {
          "base_uri": "https://localhost:8080/"
        },
        "id": "X-UTLKokvjM_",
        "outputId": "8ac242ce-b7f8-41cf-e6e2-ff0dcf199a25"
      },
      "execution_count": null,
      "outputs": [
        {
          "output_type": "execute_result",
          "data": {
            "text/plain": [
              "(11,)"
            ]
          },
          "metadata": {},
          "execution_count": 27
        }
      ]
    },
    {
      "cell_type": "code",
      "source": [
        "np.ndim(array)"
      ],
      "metadata": {
        "colab": {
          "base_uri": "https://localhost:8080/"
        },
        "id": "DtRVA_7fvq2a",
        "outputId": "6bed22dd-d387-40a5-f4b0-61685cdfc989"
      },
      "execution_count": null,
      "outputs": [
        {
          "output_type": "execute_result",
          "data": {
            "text/plain": [
              "1"
            ]
          },
          "metadata": {},
          "execution_count": 28
        }
      ]
    },
    {
      "cell_type": "code",
      "source": [],
      "metadata": {
        "id": "ih4opff9vxRK"
      },
      "execution_count": null,
      "outputs": []
    },
    {
      "cell_type": "code",
      "source": [],
      "metadata": {
        "id": "bNk_Bb5Gv5kX"
      },
      "execution_count": null,
      "outputs": []
    }
  ],
  "metadata": {
    "kernelspec": {
      "display_name": "base",
      "language": "python",
      "name": "python3"
    },
    "language_info": {
      "codemirror_mode": {
        "name": "ipython",
        "version": 3
      },
      "file_extension": ".py",
      "mimetype": "text/x-python",
      "name": "python",
      "nbconvert_exporter": "python",
      "pygments_lexer": "ipython3",
      "version": "3.9.13"
    },
    "colab": {
      "provenance": [],
      "include_colab_link": true
    }
  },
  "nbformat": 4,
  "nbformat_minor": 0
}