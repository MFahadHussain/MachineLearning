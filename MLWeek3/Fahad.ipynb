{
  "nbformat": 4,
  "nbformat_minor": 0,
  "metadata": {
    "colab": {
      "provenance": []
    },
    "kernelspec": {
      "name": "python3",
      "display_name": "Python 3"
    },
    "language_info": {
      "name": "python"
    }
  },
  "cells": [
    {
      "cell_type": "code",
      "execution_count": 1,
      "metadata": {
        "colab": {
          "base_uri": "https://localhost:8080/"
        },
        "id": "wZ5u15AacRW1",
        "outputId": "f1090d9b-8d10-49da-eed3-1d79dbb181c4"
      },
      "outputs": [
        {
          "output_type": "stream",
          "name": "stdout",
          "text": [
            "   number_courses  time_study   Marks\n",
            "0               3       4.508  19.202\n",
            "1               4       0.096   7.734\n",
            "2               4       3.133  13.811\n",
            "3               6       7.909  53.018\n",
            "4               8       7.811  55.299\n"
          ]
        }
      ],
      "source": [
        "import pandas as pd\n",
        "\n",
        "# Load dataset\n",
        "df = pd.read_csv(\"/content/Student_Marks.csv\")\n",
        "\n",
        "# Display first 5 rows\n",
        "print(df.head())\n"
      ]
    },
    {
      "cell_type": "code",
      "source": [
        "# Install scikit-learn if not already installed\n",
        "!pip install scikit-learn\n"
      ],
      "metadata": {
        "colab": {
          "base_uri": "https://localhost:8080/"
        },
        "id": "vPs78XrfeNfT",
        "outputId": "259e7202-1927-4bc9-8df7-bc73c4573aeb"
      },
      "execution_count": 2,
      "outputs": [
        {
          "output_type": "stream",
          "name": "stdout",
          "text": [
            "Requirement already satisfied: scikit-learn in /usr/local/lib/python3.11/dist-packages (1.6.1)\n",
            "Requirement already satisfied: numpy>=1.19.5 in /usr/local/lib/python3.11/dist-packages (from scikit-learn) (1.26.4)\n",
            "Requirement already satisfied: scipy>=1.6.0 in /usr/local/lib/python3.11/dist-packages (from scikit-learn) (1.13.1)\n",
            "Requirement already satisfied: joblib>=1.2.0 in /usr/local/lib/python3.11/dist-packages (from scikit-learn) (1.4.2)\n",
            "Requirement already satisfied: threadpoolctl>=3.1.0 in /usr/local/lib/python3.11/dist-packages (from scikit-learn) (3.5.0)\n"
          ]
        }
      ]
    },
    {
      "cell_type": "code",
      "source": [
        "import pandas as pd  # For handling datasets\n",
        "import numpy as np  # For numerical operations\n",
        "import matplotlib.pyplot as plt  # For visualization\n",
        "from sklearn.model_selection import train_test_split  # To split data\n",
        "from sklearn.linear_model import LinearRegression  # The model\n",
        "from sklearn.metrics import mean_absolute_error, mean_squared_error, r2_score  # To evaluate performance\n"
      ],
      "metadata": {
        "id": "eKP9ojYwey2E"
      },
      "execution_count": 3,
      "outputs": []
    },
    {
      "cell_type": "code",
      "source": [
        "# Load the dataset\n",
        "df = pd.read_csv(\"/content/Student_Marks.csv\")\n",
        "\n",
        "# Display the first 5 rows\n",
        "print(df.head())\n"
      ],
      "metadata": {
        "colab": {
          "base_uri": "https://localhost:8080/"
        },
        "id": "Nd9U_8ohe3od",
        "outputId": "8055c5c0-f73d-4fd2-acb7-7e681da289a8"
      },
      "execution_count": 5,
      "outputs": [
        {
          "output_type": "stream",
          "name": "stdout",
          "text": [
            "   number_courses  time_study   Marks\n",
            "0               3       4.508  19.202\n",
            "1               4       0.096   7.734\n",
            "2               4       3.133  13.811\n",
            "3               6       7.909  53.018\n",
            "4               8       7.811  55.299\n"
          ]
        }
      ]
    },
    {
      "cell_type": "code",
      "source": [
        "print(df.isnull().sum())\n"
      ],
      "metadata": {
        "colab": {
          "base_uri": "https://localhost:8080/"
        },
        "id": "qX8OK0yOe925",
        "outputId": "a1082492-4c76-431a-bcd7-ce5582cd766b"
      },
      "execution_count": 6,
      "outputs": [
        {
          "output_type": "stream",
          "name": "stdout",
          "text": [
            "number_courses    0\n",
            "time_study        0\n",
            "Marks             0\n",
            "dtype: int64\n"
          ]
        }
      ]
    },
    {
      "cell_type": "code",
      "source": [
        "# Define the correct feature (X) and target variable (y)\n",
        "X = df[['time_study']]  # Use 'time_study' instead of 'Hours'\n",
        "y = df['Marks']  # Target variable remains the same\n"
      ],
      "metadata": {
        "id": "chUDwq-8fmj8"
      },
      "execution_count": 10,
      "outputs": []
    },
    {
      "cell_type": "code",
      "source": [
        "from sklearn.model_selection import train_test_split\n",
        "\n",
        "# Split the data: 80% training, 20% testing\n",
        "X_train, X_test, y_train, y_test = train_test_split(X, y, test_size=0.2, random_state=42)\n",
        "\n",
        "# Display dataset sizes\n",
        "print(f\"Training Set: {X_train.shape[0]} samples\")\n",
        "print(f\"Testing Set: {X_test.shape[0]} samples\")\n"
      ],
      "metadata": {
        "colab": {
          "base_uri": "https://localhost:8080/"
        },
        "id": "Oj5l6TN6gb4M",
        "outputId": "f7541805-1a36-4174-8ff2-4f07d9a9ec88"
      },
      "execution_count": 11,
      "outputs": [
        {
          "output_type": "stream",
          "name": "stdout",
          "text": [
            "Training Set: 80 samples\n",
            "Testing Set: 20 samples\n"
          ]
        }
      ]
    },
    {
      "cell_type": "code",
      "source": [
        "from sklearn.linear_model import LinearRegression\n",
        "\n",
        "# Initialize the model\n",
        "model = LinearRegression()\n",
        "\n",
        "# Train the model using the training data\n",
        "model.fit(X_train, y_train)\n",
        "\n",
        "# Print model parameters (Equation of the line: y = mX + b)\n",
        "print(f\"Intercept (b): {model.intercept_}\")\n",
        "print(f\"Coefficient (m): {model.coef_[0]}\")\n"
      ],
      "metadata": {
        "colab": {
          "base_uri": "https://localhost:8080/"
        },
        "id": "DhAbD52YgnR_",
        "outputId": "00f170d2-b74b-4f0f-8d5b-37534d8c846c"
      },
      "execution_count": 12,
      "outputs": [
        {
          "output_type": "stream",
          "name": "stdout",
          "text": [
            "Intercept (b): 2.5155655058073734\n",
            "Coefficient (m): 5.355321531308333\n"
          ]
        }
      ]
    },
    {
      "cell_type": "code",
      "source": [
        "# Predict the Marks for test data\n",
        "y_pred = model.predict(X_test)\n",
        "\n",
        "# Compare actual vs predicted values\n",
        "predictions = pd.DataFrame({'Actual': y_test.values, 'Predicted': y_pred})\n",
        "print(predictions.head())\n"
      ],
      "metadata": {
        "colab": {
          "base_uri": "https://localhost:8080/"
        },
        "id": "QNSfr-T9gsUu",
        "outputId": "ba599cda-3fdc-408f-f7d8-5e0a1f28db70"
      },
      "execution_count": 13,
      "outputs": [
        {
          "output_type": "stream",
          "name": "stdout",
          "text": [
            "   Actual  Predicted\n",
            "0  16.106  19.636528\n",
            "1  36.653  34.909905\n",
            "2  16.606  22.523047\n",
            "3   8.924  13.552883\n",
            "4   9.742  12.979864\n"
          ]
        }
      ]
    },
    {
      "cell_type": "code",
      "source": [
        "from sklearn.metrics import mean_absolute_error, mean_squared_error, r2_score\n",
        "import numpy as np\n",
        "\n",
        "# Calculate evaluation metrics\n",
        "mae = mean_absolute_error(y_test, y_pred)\n",
        "mse = mean_squared_error(y_test, y_pred)\n",
        "rmse = np.sqrt(mse)\n",
        "r2 = r2_score(y_test, y_pred)\n",
        "\n",
        "# Print results\n",
        "print(f\"Mean Absolute Error (MAE): {mae:.2f}\")\n",
        "print(f\"Mean Squared Error (MSE): {mse:.2f}\")\n",
        "print(f\"Root Mean Squared Error (RMSE): {rmse:.2f}\")\n",
        "print(f\"R² Score: {r2:.2f}\")\n"
      ],
      "metadata": {
        "colab": {
          "base_uri": "https://localhost:8080/"
        },
        "id": "FXmNia69gwsW",
        "outputId": "10726cd9-def7-47d0-93cb-29058730d1bb"
      },
      "execution_count": 14,
      "outputs": [
        {
          "output_type": "stream",
          "name": "stdout",
          "text": [
            "Mean Absolute Error (MAE): 3.97\n",
            "Mean Squared Error (MSE): 25.24\n",
            "Root Mean Squared Error (RMSE): 5.02\n",
            "R² Score: 0.90\n"
          ]
        }
      ]
    },
    {
      "cell_type": "code",
      "source": [
        "import matplotlib.pyplot as plt\n",
        "\n",
        "# Scatter plot of actual data\n",
        "plt.scatter(X, y, color=\"blue\", label=\"Actual Data\")\n",
        "\n",
        "# Plot regression line\n",
        "plt.plot(X, model.predict(X), color=\"red\", linewidth=2, label=\"Regression Line\")\n",
        "\n",
        "plt.xlabel(\"Time Studied\")\n",
        "plt.ylabel(\"Marks Scored\")\n",
        "plt.title(\"Linear Regression Model\")\n",
        "plt.legend()\n",
        "plt.show()\n"
      ],
      "metadata": {
        "colab": {
          "base_uri": "https://localhost:8080/",
          "height": 472
        },
        "id": "Jsq1vg8Wg1Un",
        "outputId": "73e9f5a2-6fa5-4181-b066-3d4938057f93"
      },
      "execution_count": 15,
      "outputs": [
        {
          "output_type": "display_data",
          "data": {
            "text/plain": [
              "<Figure size 640x480 with 1 Axes>"
            ],
            "image/png": "[encoded data removed]"
          },
          "metadata": {}
        }
      ]
    },
    {
      "cell_type": "code",
      "source": [
        "new_study_time = np.array([[7]])  # New input\n",
        "predicted_marks = model.predict(new_study_time)\n",
        "\n",
        "print(f\"Predicted Marks for 7 hours of study: {predicted_marks[0]:.2f}\")\n"
      ],
      "metadata": {
        "colab": {
          "base_uri": "https://localhost:8080/"
        },
        "id": "HWPsq0umg5ty",
        "outputId": "982f58c1-d77a-439b-856e-37762cf1d962"
      },
      "execution_count": 16,
      "outputs": [
        {
          "output_type": "stream",
          "name": "stdout",
          "text": [
            "Predicted Marks for 7 hours of study: 40.00\n"
          ]
        },
        {
          "output_type": "stream",
          "name": "stderr",
          "text": [
            "/usr/local/lib/python3.11/dist-packages/sklearn/utils/validation.py:2739: UserWarning: X does not have valid feature names, but LinearRegression was fitted with feature names\n",
            "  warnings.warn(\n"
          ]
        }
      ]
    },
    {
      "cell_type": "code",
      "source": [],
      "metadata": {
        "id": "N2dwNXrTic5m"
      },
      "execution_count": null,
      "outputs": []
    }
  ]
}